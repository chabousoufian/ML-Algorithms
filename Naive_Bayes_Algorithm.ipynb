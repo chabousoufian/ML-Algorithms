{
  "nbformat": 4,
  "nbformat_minor": 0,
  "metadata": {
    "colab": {
      "provenance": []
    },
    "kernelspec": {
      "name": "python3",
      "display_name": "Python 3"
    },
    "language_info": {
      "name": "python"
    }
  },
  "cells": [
    {
      "cell_type": "code",
      "execution_count": 5,
      "metadata": {
        "id": "-IH1ezge9vg1"
      },
      "outputs": [],
      "source": [
        "import sklearn \n",
        "import pandas as pd\n",
        "from sklearn.datasets import load_iris\n",
        "from sklearn.model_selection import train_test_split\n",
        "import numpy as np\n",
        "\n",
        "data = load_iris().data\n",
        "target = load_iris().target\n",
        "X_train, X_test, y_train, y_test = train_test_split(data, target, test_size = 0.3)"
      ]
    },
    {
      "cell_type": "code",
      "source": [
        "class NaiveBayes():\n",
        "  \"\"\"Naive Bayes Alghorithm\"\"\"\n",
        "  \n",
        "  def fit(self, X, y):\n",
        "    self.y_classes, self.y_counts = np.unique(y, return_counts=True)\n",
        "    self.x_classes = np.array([np.unique(x) for x in X.T])\n",
        "    self.pi_y = self.y_counts/self.y_counts.sum()\n",
        "    self.mu = np.array([X[y==k].mean(axis=0) for k in self.y_classes])\n",
        "    self.var_x = np.array([X[y==k].var(axis=0) for k in self.y_classes])\n",
        "    return self\n",
        "\n",
        "  def predict(self, X):\n",
        "    return np.apply_along_axis(lambda x: self.compute_probs(x), 1, X)\n",
        "\n",
        "  def compute_probs(self, x):\n",
        "        probs = np.array([self.compute_prob(x, y) for y in range(len(self.y_classes))])\n",
        "        return self.y_classes[np.argmax(probs)]\n",
        "    \n",
        "  def compute_prob(self, x, y):\n",
        "        c = 1.0 /np.sqrt(2.0 * np.pi * (self.var_x[y]))\n",
        "        return np.prod(c * np.exp(-1.0 * np.square(x - self.mu[y]) / (2.0 * self.var_x[y])))\n",
        "    \n",
        "  def evaluate(self, X, y):\n",
        "        return (self.predict(X) == y).mean()\n",
        "    "
      ],
      "metadata": {
        "id": "I6mKqKJR_ZK4"
      },
      "execution_count": 9,
      "outputs": []
    },
    {
      "cell_type": "code",
      "source": [
        "NB = NaiveBayes()\n",
        "history = NB.fit(X_train, y_train)\n",
        "y_pred = NB.predict(X_test)\n",
        "y_pred"
      ],
      "metadata": {
        "colab": {
          "base_uri": "https://localhost:8080/"
        },
        "id": "g6dUjuifElcq",
        "outputId": "c0743ec4-1471-41d1-9118-facd9927f1f5"
      },
      "execution_count": 10,
      "outputs": [
        {
          "output_type": "stream",
          "name": "stderr",
          "text": [
            "/usr/local/lib/python3.7/dist-packages/ipykernel_launcher.py:6: VisibleDeprecationWarning: Creating an ndarray from ragged nested sequences (which is a list-or-tuple of lists-or-tuples-or ndarrays with different lengths or shapes) is deprecated. If you meant to do this, you must specify 'dtype=object' when creating the ndarray.\n",
            "  \n"
          ]
        },
        {
          "output_type": "execute_result",
          "data": {
            "text/plain": [
              "array([2, 1, 2, 0, 1, 0, 1, 1, 2, 2, 0, 0, 1, 1, 2, 0, 0, 0, 2, 1, 0, 0,\n",
              "       2, 0, 0, 1, 1, 1, 0, 2, 0, 0, 0, 2, 2, 1, 1, 1, 0, 2, 0, 1, 2, 2,\n",
              "       0])"
            ]
          },
          "metadata": {},
          "execution_count": 10
        }
      ]
    },
    {
      "cell_type": "code",
      "source": [
        "from sklearn.metrics import confusion_matrix, accuracy_score\n",
        "import seaborn as sns\n",
        "accuracy = accuracy_score(y_test,y_pred)\n",
        "cm= confusion_matrix(y_test,y_pred) \n",
        "sns.heatmap(cm, annot=True, cmap='Blues')"
      ],
      "metadata": {
        "colab": {
          "base_uri": "https://localhost:8080/",
          "height": 286
        },
        "id": "JUbebHQyFKdR",
        "outputId": "05983345-dcaa-4de3-b839-f2b823060fd8"
      },
      "execution_count": 17,
      "outputs": [
        {
          "output_type": "execute_result",
          "data": {
            "text/plain": [
              "<matplotlib.axes._subplots.AxesSubplot at 0x7f65a2159cd0>"
            ]
          },
          "metadata": {},
          "execution_count": 17
        },
        {
          "output_type": "display_data",
          "data": {
            "text/plain": [
              "<Figure size 432x288 with 2 Axes>"
            ],
            "image/png": "[encoded data removed]"
          },
          "metadata": {
            "needs_background": "light"
          }
        }
      ]
    },
    {
      "cell_type": "code",
      "source": [
        "print('accuracy:', accuracy)"
      ],
      "metadata": {
        "colab": {
          "base_uri": "https://localhost:8080/"
        },
        "id": "n9sXx0i0F9Ax",
        "outputId": "7da0f3db-0a57-4dc2-d483-f62c6d72169b"
      },
      "execution_count": 16,
      "outputs": [
        {
          "output_type": "stream",
          "name": "stdout",
          "text": [
            "accuracy: 1.0\n"
          ]
        }
      ]
    },
    {
      "cell_type": "markdown",
      "source": [
        "We are going to us th KFold method to evaluate our Model"
      ],
      "metadata": {
        "id": "e8DhtSHKInGK"
      }
    },
    {
      "cell_type": "code",
      "source": [
        "from sklearn.model_selection import KFold\n",
        "# k = 10\n",
        "\n",
        "K_Fold = KFold(n_splits=10)\n",
        "# We are going to use the whole data and target\n",
        "table= []\n",
        "for train_index, test_index in K_Fold.split(data):\n",
        "    X_train, X_test = data[train_index], data[test_index]\n",
        "    y_train, y_test = target[train_index], target[test_index]\n",
        "    NB = NaiveBayes()\n",
        "    history = NB.fit(X_train,y_train)\n",
        "    y_pred = NB.predict(X_test)\n",
        "    cm = confusion_matrix(y_test,y_pred)\n",
        "    accuracy = accuracy_score(y_test,y_pred)\n",
        "    table.append({\"matrice de confusion\" : cm, \"accuracy\":accuracy })"
      ],
      "metadata": {
        "colab": {
          "base_uri": "https://localhost:8080/"
        },
        "id": "c41Eg88QIzGl",
        "outputId": "ef8ce1a7-f01a-4a50-c012-1e9f225dd87d"
      },
      "execution_count": 48,
      "outputs": [
        {
          "output_type": "stream",
          "name": "stderr",
          "text": [
            "/usr/local/lib/python3.7/dist-packages/ipykernel_launcher.py:6: VisibleDeprecationWarning: Creating an ndarray from ragged nested sequences (which is a list-or-tuple of lists-or-tuples-or ndarrays with different lengths or shapes) is deprecated. If you meant to do this, you must specify 'dtype=object' when creating the ndarray.\n",
            "  \n",
            "/usr/local/lib/python3.7/dist-packages/ipykernel_launcher.py:6: VisibleDeprecationWarning: Creating an ndarray from ragged nested sequences (which is a list-or-tuple of lists-or-tuples-or ndarrays with different lengths or shapes) is deprecated. If you meant to do this, you must specify 'dtype=object' when creating the ndarray.\n",
            "  \n",
            "/usr/local/lib/python3.7/dist-packages/ipykernel_launcher.py:6: VisibleDeprecationWarning: Creating an ndarray from ragged nested sequences (which is a list-or-tuple of lists-or-tuples-or ndarrays with different lengths or shapes) is deprecated. If you meant to do this, you must specify 'dtype=object' when creating the ndarray.\n",
            "  \n",
            "/usr/local/lib/python3.7/dist-packages/ipykernel_launcher.py:6: VisibleDeprecationWarning: Creating an ndarray from ragged nested sequences (which is a list-or-tuple of lists-or-tuples-or ndarrays with different lengths or shapes) is deprecated. If you meant to do this, you must specify 'dtype=object' when creating the ndarray.\n",
            "  \n",
            "/usr/local/lib/python3.7/dist-packages/ipykernel_launcher.py:6: VisibleDeprecationWarning: Creating an ndarray from ragged nested sequences (which is a list-or-tuple of lists-or-tuples-or ndarrays with different lengths or shapes) is deprecated. If you meant to do this, you must specify 'dtype=object' when creating the ndarray.\n",
            "  \n",
            "/usr/local/lib/python3.7/dist-packages/ipykernel_launcher.py:6: VisibleDeprecationWarning: Creating an ndarray from ragged nested sequences (which is a list-or-tuple of lists-or-tuples-or ndarrays with different lengths or shapes) is deprecated. If you meant to do this, you must specify 'dtype=object' when creating the ndarray.\n",
            "  \n",
            "/usr/local/lib/python3.7/dist-packages/ipykernel_launcher.py:6: VisibleDeprecationWarning: Creating an ndarray from ragged nested sequences (which is a list-or-tuple of lists-or-tuples-or ndarrays with different lengths or shapes) is deprecated. If you meant to do this, you must specify 'dtype=object' when creating the ndarray.\n",
            "  \n",
            "/usr/local/lib/python3.7/dist-packages/ipykernel_launcher.py:6: VisibleDeprecationWarning: Creating an ndarray from ragged nested sequences (which is a list-or-tuple of lists-or-tuples-or ndarrays with different lengths or shapes) is deprecated. If you meant to do this, you must specify 'dtype=object' when creating the ndarray.\n",
            "  \n",
            "/usr/local/lib/python3.7/dist-packages/ipykernel_launcher.py:6: VisibleDeprecationWarning: Creating an ndarray from ragged nested sequences (which is a list-or-tuple of lists-or-tuples-or ndarrays with different lengths or shapes) is deprecated. If you meant to do this, you must specify 'dtype=object' when creating the ndarray.\n",
            "  \n",
            "/usr/local/lib/python3.7/dist-packages/ipykernel_launcher.py:6: VisibleDeprecationWarning: Creating an ndarray from ragged nested sequences (which is a list-or-tuple of lists-or-tuples-or ndarrays with different lengths or shapes) is deprecated. If you meant to do this, you must specify 'dtype=object' when creating the ndarray.\n",
            "  \n"
          ]
        }
      ]
    },
    {
      "cell_type": "code",
      "source": [
        "for i in range(0, len(table)):\n",
        "  print(f\"Accuracy {i+1}:\",table[i]['accuracy'])"
      ],
      "metadata": {
        "colab": {
          "base_uri": "https://localhost:8080/"
        },
        "id": "oYk3uY9ZM7DZ",
        "outputId": "31539905-5ffb-4396-d717-eb3d418f0534"
      },
      "execution_count": 49,
      "outputs": [
        {
          "output_type": "stream",
          "name": "stdout",
          "text": [
            "Accuracy 1: 1.0\n",
            "Accuracy 2: 1.0\n",
            "Accuracy 3: 1.0\n",
            "Accuracy 4: 0.9333333333333333\n",
            "Accuracy 5: 0.9333333333333333\n",
            "Accuracy 6: 0.9333333333333333\n",
            "Accuracy 7: 1.0\n",
            "Accuracy 8: 0.8666666666666667\n",
            "Accuracy 9: 0.8666666666666667\n",
            "Accuracy 10: 1.0\n"
          ]
        }
      ]
    },
    {
      "cell_type": "markdown",
      "source": [
        "# **Sckit-learn Library Naïve bayes Algorithm**"
      ],
      "metadata": {
        "id": "NnajSi5YGnB-"
      }
    },
    {
      "cell_type": "code",
      "source": [
        "from sklearn.naive_bayes import GaussianNB\n",
        "\n",
        "# k = 10\n",
        "\n",
        "K_Fold = KFold(n_splits=10)\n",
        "# We are going to use the whole data and target\n",
        "table_2= []\n",
        "for train_index, test_index in K_Fold.split(data):\n",
        "    X_train, X_test = data[train_index], data[test_index]\n",
        "    y_train, y_test = target[train_index], target[test_index]\n",
        "    NB = GaussianNB()\n",
        "    history = NB.fit(X_train,y_train)\n",
        "    y_pred = NB.predict(X_test)\n",
        "    cm = confusion_matrix(y_test,y_pred)\n",
        "    accuracy = accuracy_score(y_test,y_pred)\n",
        "    table_2.append({\"matrice de confusion\" : cm, \"accuracy\":accuracy })"
      ],
      "metadata": {
        "id": "EgmcFyvNGbYQ"
      },
      "execution_count": 50,
      "outputs": []
    },
    {
      "cell_type": "code",
      "source": [
        "for i in range(0, len(table_2)):\n",
        "  print(f\"Accuracy {i+1}:\",table_2[i]['accuracy'])"
      ],
      "metadata": {
        "colab": {
          "base_uri": "https://localhost:8080/"
        },
        "id": "6ViQjqR3P_Sx",
        "outputId": "ac1262fc-5384-4f78-8b5d-ca4d2eab201b"
      },
      "execution_count": 51,
      "outputs": [
        {
          "output_type": "stream",
          "name": "stdout",
          "text": [
            "Accuracy 1: 1.0\n",
            "Accuracy 2: 1.0\n",
            "Accuracy 3: 1.0\n",
            "Accuracy 4: 0.9333333333333333\n",
            "Accuracy 5: 0.9333333333333333\n",
            "Accuracy 6: 0.8666666666666667\n",
            "Accuracy 7: 1.0\n",
            "Accuracy 8: 0.8666666666666667\n",
            "Accuracy 9: 0.8666666666666667\n",
            "Accuracy 10: 1.0\n"
          ]
        }
      ]
    },
    {
      "cell_type": "markdown",
      "source": [
        "# Comparing the accuracy results"
      ],
      "metadata": {
        "id": "6hCB1y7sQjFC"
      }
    },
    {
      "cell_type": "code",
      "source": [
        "global_accuracy_for_our_model = 0\n",
        "for i in range(0, len(table)):\n",
        "   global_accuracy_for_our_model += table[i]['accuracy']\n",
        "global_accuracy_for_our_model /= 10"
      ],
      "metadata": {
        "id": "q9Hp6oujQF8K"
      },
      "execution_count": 52,
      "outputs": []
    },
    {
      "cell_type": "code",
      "source": [
        "global_accuracy_for_sklearn_model = 0\n",
        "for i in range(0, len(table_2)):\n",
        "   global_accuracy_for_sklearn_model += table_2[i]['accuracy']\n",
        "global_accuracy_for_sklearn_model /= 10"
      ],
      "metadata": {
        "id": "hQzLwwCvQbxc"
      },
      "execution_count": 53,
      "outputs": []
    },
    {
      "cell_type": "code",
      "source": [
        "global_accuracy_for_our_model"
      ],
      "metadata": {
        "colab": {
          "base_uri": "https://localhost:8080/"
        },
        "id": "VKsKzhZ-RXqR",
        "outputId": "92db4f7f-cf33-4dba-ddf6-f18581fce000"
      },
      "execution_count": 54,
      "outputs": [
        {
          "output_type": "execute_result",
          "data": {
            "text/plain": [
              "0.9533333333333335"
            ]
          },
          "metadata": {},
          "execution_count": 54
        }
      ]
    },
    {
      "cell_type": "code",
      "source": [
        "global_accuracy_for_sklearn_model"
      ],
      "metadata": {
        "colab": {
          "base_uri": "https://localhost:8080/"
        },
        "id": "n9GKR9bnRZhM",
        "outputId": "0dd94494-0597-45b5-f984-008dc6a0d948"
      },
      "execution_count": 55,
      "outputs": [
        {
          "output_type": "execute_result",
          "data": {
            "text/plain": [
              "0.9466666666666669"
            ]
          },
          "metadata": {},
          "execution_count": 55
        }
      ]
    },
    {
      "cell_type": "markdown",
      "source": [
        "Our model give us a better result"
      ],
      "metadata": {
        "id": "NAMLOnc0Rtl6"
      }
    },
    {
      "cell_type": "code",
      "source": [],
      "metadata": {
        "id": "W8Mpe4h8RbHL"
      },
      "execution_count": null,
      "outputs": []
    }
  ]
}